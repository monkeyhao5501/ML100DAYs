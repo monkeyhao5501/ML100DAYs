{
 "cells": [
  {
   "cell_type": "markdown",
   "metadata": {
    "colab_type": "text",
    "id": "tTJolmzeBLGr"
   },
   "source": [
    "# 作業目標: 使用python正規表達式對資料進行清洗處理\n",
    "\n",
    "這份作業我們會使用詐欺郵件的文本資料來作為清洗與處理的操作。\n",
    "[資料集](https://www.kaggle.com/rtatman/fraudulent-email-corpus/data#)"
   ]
  },
  {
   "cell_type": "markdown",
   "metadata": {
    "colab_type": "text",
    "id": "vhv0OElTBLGs"
   },
   "source": [
    "### 讀入資料文本\n",
    "因原始文本較大，先使用部份擷取的**sample_emails.txt**來進行練習"
   ]
  },
  {
   "cell_type": "code",
   "execution_count": 1,
   "metadata": {
    "colab": {},
    "colab_type": "code",
    "id": "a0BdDqt1BLGt"
   },
   "outputs": [],
   "source": [
    "#讀取文本資料\n",
    "#<your code>#"
   ]
  },
  {
   "cell_type": "code",
   "execution_count": 2,
   "metadata": {
    "colab": {},
    "colab_type": "code",
    "id": "XQbjXNKdBLGx",
    "outputId": "97497027-4c29-4dcf-9cf4-94b0081dac54",
    "scrolled": true
   },
   "outputs": [
    {
     "name": "stdout",
     "output_type": "stream",
     "text": [
      "                      From r  Wed Oct 30 21:41:56 2002\n",
      "0           Return-Path: <james_ngola2002@maktoob.com>\n",
      "1                               X-Sieve: cmu-sieve 2.0\n",
      "2           Return-Path: <james_ngola2002@maktoob.com>\n",
      "3      Message-Id: <200210310241.g9V2fNm6028281@cs.CU>\n",
      "4    From: \"MR. JAMES NGOLA.\" <james_ngola2002@makt...\n",
      "..                                                 ...\n",
      "133  Nevertheless if you are for any reason not int...\n",
      "134  kindly inform me immediately so that I will lo...\n",
      "135             I am waiting for your quick response. \n",
      "136                                 Yours faithfully, \n",
      "137                                Prince Obong Abbot \n",
      "\n",
      "[138 rows x 1 columns]\n"
     ]
    }
   ],
   "source": [
    "import pandas as pd\n",
    "dataset = pd.read_table(r'sample_emails.txt',sep='\\n')\n",
    "print(dataset)\n",
    "str = open('sample_emails.txt', 'r').read()"
   ]
  },
  {
   "cell_type": "markdown",
   "metadata": {
    "colab_type": "text",
    "id": "aUg8HenSBLG2"
   },
   "source": [
    "### 讀取寄件者資訊\n",
    "觀察文本資料可以發現, 寄件者資訊都符合以下格式\n",
    "\n",
    "`From: <收件者姓名> <收件者電子郵件>`"
   ]
  },
  {
   "cell_type": "code",
   "execution_count": 3,
   "metadata": {
    "colab": {},
    "colab_type": "code",
    "id": "YgsUuHsfBLG2"
   },
   "outputs": [],
   "source": [
    "#<your code>#"
   ]
  },
  {
   "cell_type": "code",
   "execution_count": 4,
   "metadata": {
    "colab": {},
    "colab_type": "code",
    "id": "pofRrOGhBLG5",
    "outputId": "28eb134d-2dfa-4743-fae8-1f0abda25968"
   },
   "outputs": [
    {
     "name": "stdout",
     "output_type": "stream",
     "text": [
      "['From: \"MR. JAMES NGOLA.\" <james_ngola2002@maktoob.com>', 'From: \"Mr. Ben Suleman\" <bensul2004nng@spinfinder.com>', 'From: \"PRINCE OBONG ELEME\" <obong_715@epatra.com>']\n"
     ]
    }
   ],
   "source": [
    "import re\n",
    "pattern=\"From: \\\".*\"\n",
    "match1 = re.findall(pattern, str)\n",
    "print (match1)\n",
    "match1='\\n'.join(match1)"
   ]
  },
  {
   "cell_type": "markdown",
   "metadata": {
    "colab_type": "text",
    "id": "Ac8KHAqTBLG7"
   },
   "source": [
    "### 只讀取寄件者姓名"
   ]
  },
  {
   "cell_type": "code",
   "execution_count": 5,
   "metadata": {
    "colab": {},
    "colab_type": "code",
    "id": "coBDE2iBBLG8",
    "outputId": "aada7b60-56bb-45ae-f25f-941218a541c2"
   },
   "outputs": [
    {
     "name": "stdout",
     "output_type": "stream",
     "text": [
      "['MR. JAMES NGOLA.', 'Mr. Ben Suleman', 'PRINCE OBONG ELEME']\n"
     ]
    }
   ],
   "source": [
    "#<your code>#\n",
    "\n",
    "pattern=\"(?<=From: \\\")(.+)(?=\\\")\"\n",
    "match=re.findall(pattern,match1)\n",
    "print(match)"
   ]
  },
  {
   "cell_type": "markdown",
   "metadata": {
    "colab_type": "text",
    "id": "gaJefecaBLG-"
   },
   "source": [
    "### 只讀取寄件者電子信箱"
   ]
  },
  {
   "cell_type": "code",
   "execution_count": 6,
   "metadata": {
    "colab": {},
    "colab_type": "code",
    "id": "G55ADKW_BLG_",
    "outputId": "7f3d9657-87b9-4c78-d324-3df919ee84a7"
   },
   "outputs": [
    {
     "name": "stdout",
     "output_type": "stream",
     "text": [
      "['james_ngola2002@maktoob.com', 'bensul2004nng@spinfinder.com', 'obong_715@epatra.com']\n"
     ]
    }
   ],
   "source": [
    "pattern=\"(?<=\\<)(.+)(?=\\>)\"\n",
    "match=re.findall(pattern,match1)\n",
    "print(match)"
   ]
  },
  {
   "cell_type": "markdown",
   "metadata": {
    "colab_type": "text",
    "id": "t-RXjNLiBLHC"
   },
   "source": [
    "### 只讀取電子信箱中的寄件機構資訊\n",
    "ex: james_ngola2002@maktoob.com --> 取maktoob"
   ]
  },
  {
   "cell_type": "code",
   "execution_count": 7,
   "metadata": {
    "colab": {},
    "colab_type": "code",
    "id": "qC2Sd6_SBLHC",
    "outputId": "14e4e148-a660-4a15-88ac-e781300c9767"
   },
   "outputs": [
    {
     "name": "stdout",
     "output_type": "stream",
     "text": [
      "['maktoob', 'spinfinder', 'epatra']\n"
     ]
    }
   ],
   "source": [
    "pattern=\"(?<=\\@)(.+)(?=\\.)\"\n",
    "match=re.findall(pattern,match1)\n",
    "print(match)"
   ]
  },
  {
   "cell_type": "markdown",
   "metadata": {
    "colab_type": "text",
    "id": "vfzkuLCWBLHG"
   },
   "source": [
    "### 結合上面的配對方式, 將寄件者的帳號與機構訊返回\n",
    "ex: james_ngola2002@maktoob.com --> [james_ngola2002, maktoob]"
   ]
  },
  {
   "cell_type": "code",
   "execution_count": 8,
   "metadata": {
    "colab": {},
    "colab_type": "code",
    "id": "t3lTRThcBLHG",
    "outputId": "e94f295a-ffa4-4897-dc43-e93991aac20e"
   },
   "outputs": [
    {
     "name": "stdout",
     "output_type": "stream",
     "text": [
      "[('james_ngola2002', ''), ('', 'maktoob'), ('bensul2004nng', ''), ('', 'spinfinder'), ('obong_715', ''), ('', 'epatra')]\n"
     ]
    }
   ],
   "source": [
    "pattern=\"(?<=\\<)(.+)(?=\\@)|(?<=\\@)(.*)(?=\\.)\"\n",
    "match=re.findall(pattern,match1)\n",
    "print(match)"
   ]
  },
  {
   "cell_type": "markdown",
   "metadata": {
    "colab_type": "text",
    "id": "Yl-BMduNBLHJ"
   },
   "source": [
    "### 使用正規表達式對email資料進行處理\n",
    "這裡我們會使用到python其他的套件協助處理(ex: pandas, email, etc)，這裡我們只需要專注在正規表達式上即可，其他的套件是方便我們整理與處理資料。"
   ]
  },
  {
   "cell_type": "markdown",
   "metadata": {
    "colab_type": "text",
    "id": "kqCacQ9tBLHJ"
   },
   "source": [
    "### 讀取與切分Email\n",
    "讀入的email為一個長字串，利用正規表達式切割讀入的資料成一封一封的email，並將結果以list表示。\n",
    "\n",
    "輸出: [email_1, email_2, email_3, ....]"
   ]
  },
  {
   "cell_type": "code",
   "execution_count": 9,
   "metadata": {
    "colab": {},
    "colab_type": "code",
    "id": "k9BCVTqoBLHK",
    "outputId": "656ffc81-cb9b-4174-8511-9013985c4cad"
   },
   "outputs": [
    {
     "data": {
      "text/plain": [
       "3977"
      ]
     },
     "execution_count": 9,
     "metadata": {},
     "output_type": "execute_result"
    }
   ],
   "source": [
    "import re\n",
    "import pandas as pd\n",
    "import email\n",
    "\n",
    "###讀取文本資料:fradulent_emails.txt###\n",
    "with open('all_emails.txt', 'r',encoding=\"utf8\", errors='ignore') as f:\n",
    "    all_emails=f.read()\n",
    "    \n",
    "###切割讀入的資料成一封一封的email###\n",
    "###我們可以使用list來儲存每一封email###\n",
    "###注意！這裡請仔細觀察sample資料，看資料是如何切分不同email###\n",
    "emails = re.split(r\"From r\", all_emails, flags=re.M)\n",
    "emails = emails[1:] #移除第一項的空元素\n",
    "len(emails) #查看有多少封email"
   ]
  },
  {
   "cell_type": "markdown",
   "metadata": {
    "colab_type": "text",
    "id": "e9IN-2o0BLHM"
   },
   "source": [
    "### 從文本中擷取所有寄件者與收件者的姓名和地址"
   ]
  },
  {
   "cell_type": "code",
   "execution_count": 12,
   "metadata": {
    "colab": {},
    "colab_type": "code",
    "id": "d_WRYFpcBLHM"
   },
   "outputs": [],
   "source": [
    "emails_list = [] #創建空list來儲存所有email資訊\n",
    "\n",
    "for mail in emails[:20]: #只取前20筆資料 (處理速度比較快)\n",
    "    emails_dict = dict() #創建空字典儲存資訊\n",
    "    ###取的寄件者姓名與地址###\n",
    "    \n",
    "    #Step1: 取的寄件者資訊 (hint: From:)\n",
    "    sender = re.search(r\"From:.*\", mail)\n",
    "    \n",
    "    #Step2: 取的姓名與地址 (hint: 要注意有時會有沒取到配對的情況)\n",
    "    if sender is not None: #有取到配對\n",
    "        sender_mail = re.search(r\"\\w\\S*@.*\\b\", sender.group())\n",
    "        sender_name = re.search(r\"(?<=\\\").*(?=\\\")\", sender.group())\n",
    "    else: #沒取到配對\n",
    "        sender_mail = None\n",
    "        sender_name = None\n",
    "\n",
    "    #Step3: 將取得的姓名與地址存入字典中\n",
    "    if sender_mail is not None:\n",
    "        emails_dict[\"sender_email\"] = sender_mail.group()\n",
    "    else:\n",
    "        emails_dict[\"sender_email\"] = sender_mail \n",
    "    \n",
    "    if sender_name is not None:\n",
    "        emails_dict[\"sender_name\"] = sender_name.group()\n",
    "    else:\n",
    "        emails_dict[\"sender_name\"] = sender_name \n",
    "        \n",
    "    \n",
    "    ###取的收件者姓名與地址###\n",
    "    #Step1: 取的收件者資訊 (hint: To:)\n",
    "    recipient=re.search(r\"To:.*\", mail)\n",
    "\n",
    "    \n",
    "    #Step2: 取的姓名與地址 (hint: 要注意有時會有沒取到配對的情況)\n",
    "    if recipient is not None:\n",
    "        recipient_email = re.search(r\"\\w\\S*@.*\\b\", recipient.group())\n",
    "        recipient_name = re.search(r\"(?<=\\\").*(?=\\\")\", recipient.group())\n",
    "    else:\n",
    "        recipient_email = None\n",
    "        recipient_name = None\n",
    "        \n",
    "    #Step3: 將取得的姓名與地址存入字典中\n",
    "    if recipient_email is not None:\n",
    "        emails_dict[\"recipient_mails\"]=recipient_email.group()    \n",
    "    else:\n",
    "        emails_dict[\"recipient_mails\"]=recipient_email \n",
    "    if recipient_name is not None:\n",
    "        emails_dict[\"recipient_names\"]=recipient_name.group() \n",
    "    else:\n",
    "        emails_dict[\"recipient_names\"]=recipient_name\n",
    "        \n",
    "    ###取得信件日期###\n",
    "    #Step1: 取得日期資訊 (hint: To:)\n",
    "    date=re.search(r\"To:.*\",mail)\n",
    "    \n",
    "    #Step2: 取得詳細日期(只需取得DD MMM YYYY)\n",
    "    if date is not None:\n",
    "        date_info = re.search(r\"\\d+\\s\\w+\\s\\d+\", date.group())\n",
    "    else:\n",
    "        date_info = None\n",
    "\n",
    "    #Step3: 將取得的日期資訊存入字典中\n",
    "    if date_info is not None:\n",
    "        emails_dict[\"date\"]=date_info.group()\n",
    "    else:\n",
    "        emails_dict[\"date\"]=date_info\n",
    "\n",
    "        \n",
    "    ###取得信件主旨###\n",
    "    #Step1: 取得主旨資訊 (hint: Subject:)\n",
    "    subject_info = re.search(r\"Subject: .*\", mail)\n",
    "\n",
    "    \n",
    "    #Step2: 移除不必要文字 (hint: Subject: )\n",
    "    if subject_info is not None:\n",
    "        subject=re.sub(r\"Subject: \", \"\", subject_info.group())\n",
    "    else:\n",
    "        subject=None\n",
    "\n",
    "    \n",
    "    #Step3: 將取得的主旨存入字典中\n",
    "    if subject is not None:\n",
    "        emails_dict[\"emails_body\"]=subject\n",
    "\n",
    "\n",
    "    \n",
    "    ###取得信件內文###\n",
    "    #這裡我們使用email package來取出email內文 (可以不需深究，本章節重點在正規表達式)\n",
    "\n",
    "    try:\n",
    "        full_email = email.message_from_string(mail)\n",
    "        body = full_email.get_payload()\n",
    "        emails_dict[\"email_body\"] = body\n",
    "    except:\n",
    "        emails_dict[\"email_body\"] = None\n",
    "    \n",
    "    ###將字典加入list###\n",
    "    emails_list.append(emails_dict)\n",
    "\n"
   ]
  },
  {
   "cell_type": "code",
   "execution_count": 13,
   "metadata": {
    "colab": {},
    "colab_type": "code",
    "id": "CBfQRiYPBLHP"
   },
   "outputs": [
    {
     "data": {
      "text/html": [
       "<div>\n",
       "<style scoped>\n",
       "    .dataframe tbody tr th:only-of-type {\n",
       "        vertical-align: middle;\n",
       "    }\n",
       "\n",
       "    .dataframe tbody tr th {\n",
       "        vertical-align: top;\n",
       "    }\n",
       "\n",
       "    .dataframe thead th {\n",
       "        text-align: right;\n",
       "    }\n",
       "</style>\n",
       "<table border=\"1\" class=\"dataframe\">\n",
       "  <thead>\n",
       "    <tr style=\"text-align: right;\">\n",
       "      <th></th>\n",
       "      <th>sender_email</th>\n",
       "      <th>sender_name</th>\n",
       "      <th>recipient_mails</th>\n",
       "      <th>recipient_names</th>\n",
       "      <th>date</th>\n",
       "      <th>emails_body</th>\n",
       "      <th>email_body</th>\n",
       "    </tr>\n",
       "  </thead>\n",
       "  <tbody>\n",
       "    <tr>\n",
       "      <th>0</th>\n",
       "      <td>james_ngola2002@maktoob.com</td>\n",
       "      <td>MR. JAMES NGOLA.</td>\n",
       "      <td>james_ngola2002@maktoob.com</td>\n",
       "      <td>None</td>\n",
       "      <td>None</td>\n",
       "      <td>URGENT BUSINESS ASSISTANCE AND PARTNERSHIP</td>\n",
       "      <td>FROM:MR. JAMES NGOLA.\\nCONFIDENTIAL TEL: 233-2...</td>\n",
       "    </tr>\n",
       "    <tr>\n",
       "      <th>1</th>\n",
       "      <td>bensul2004nng@spinfinder.com</td>\n",
       "      <td>Mr. Ben Suleman</td>\n",
       "      <td>R@M</td>\n",
       "      <td>None</td>\n",
       "      <td>None</td>\n",
       "      <td>URGENT ASSISTANCE /RELATIONSHIP (P)</td>\n",
       "      <td>Dear Friend,\\n\\nI am Mr. Ben Suleman a custom ...</td>\n",
       "    </tr>\n",
       "    <tr>\n",
       "      <th>2</th>\n",
       "      <td>obong_715@epatra.com</td>\n",
       "      <td>PRINCE OBONG ELEME</td>\n",
       "      <td>obong_715@epatra.com</td>\n",
       "      <td>None</td>\n",
       "      <td>None</td>\n",
       "      <td>GOOD DAY TO YOU</td>\n",
       "      <td>FROM HIS ROYAL MAJESTY (HRM) CROWN RULER OF EL...</td>\n",
       "    </tr>\n",
       "    <tr>\n",
       "      <th>3</th>\n",
       "      <td>obong_715@epatra.com</td>\n",
       "      <td>PRINCE OBONG ELEME</td>\n",
       "      <td>webmaster@aclweb.org</td>\n",
       "      <td>None</td>\n",
       "      <td>None</td>\n",
       "      <td>GOOD DAY TO YOU</td>\n",
       "      <td>FROM HIS ROYAL MAJESTY (HRM) CROWN RULER OF EL...</td>\n",
       "    </tr>\n",
       "    <tr>\n",
       "      <th>4</th>\n",
       "      <td>m_abacha03@www.com</td>\n",
       "      <td>Maryam Abacha</td>\n",
       "      <td>m_abacha03@www.com</td>\n",
       "      <td>None</td>\n",
       "      <td>None</td>\n",
       "      <td>I Need Your Assistance.</td>\n",
       "      <td>Dear sir, \\n \\nIt is with a heart full of hope...</td>\n",
       "    </tr>\n",
       "    <tr>\n",
       "      <th>5</th>\n",
       "      <td>davidkuta@postmark.net</td>\n",
       "      <td>None</td>\n",
       "      <td>davidkuta@yahoo.com</td>\n",
       "      <td>None</td>\n",
       "      <td>None</td>\n",
       "      <td>Partnership</td>\n",
       "      <td>ATTENTION:                                    ...</td>\n",
       "    </tr>\n",
       "    <tr>\n",
       "      <th>6</th>\n",
       "      <td>tunde_dosumu@lycos.com</td>\n",
       "      <td>Barrister tunde dosumu</td>\n",
       "      <td>tunde_dosumu@lycos.com</td>\n",
       "      <td>None</td>\n",
       "      <td>None</td>\n",
       "      <td>Urgent Attention</td>\n",
       "      <td>Dear Sir,\\n\\nI am Barrister Tunde Dosumu (SAN)...</td>\n",
       "    </tr>\n",
       "    <tr>\n",
       "      <th>7</th>\n",
       "      <td>william2244drallo@maktoob.com</td>\n",
       "      <td>William Drallo</td>\n",
       "      <td>william2244drallo@maktoob.com</td>\n",
       "      <td>None</td>\n",
       "      <td>None</td>\n",
       "      <td>URGENT BUSINESS PRPOSAL</td>\n",
       "      <td>FROM: WILLIAM DRALLO.\\nCONFIDENTIAL TEL: 233-2...</td>\n",
       "    </tr>\n",
       "    <tr>\n",
       "      <th>8</th>\n",
       "      <td>abdul_817@rediffmail.com</td>\n",
       "      <td>MR USMAN ABDUL</td>\n",
       "      <td>R@M</td>\n",
       "      <td>None</td>\n",
       "      <td>None</td>\n",
       "      <td>THANK YOU</td>\n",
       "      <td>CHALLENGE SECURITIES LTD.\\nLAGOS, NIGERIA\\n\\n\\...</td>\n",
       "    </tr>\n",
       "    <tr>\n",
       "      <th>9</th>\n",
       "      <td>barrister_td@lycos.com</td>\n",
       "      <td>Tunde  Dosumu</td>\n",
       "      <td>barrister_td@lycos.com</td>\n",
       "      <td>None</td>\n",
       "      <td>None</td>\n",
       "      <td>Urgent Assistance</td>\n",
       "      <td>Dear Sir,\\n\\nI am Barrister Tunde Dosumu (SAN)...</td>\n",
       "    </tr>\n",
       "    <tr>\n",
       "      <th>10</th>\n",
       "      <td>temijohnson2@rediffmail.com</td>\n",
       "      <td>None</td>\n",
       "      <td>R@E</td>\n",
       "      <td>None</td>\n",
       "      <td>None</td>\n",
       "      <td>IMPORTANT</td>\n",
       "      <td>FROM: MR TEMI JOHNSON\\nDEMOCRATIC REPUBLIC OF ...</td>\n",
       "    </tr>\n",
       "    <tr>\n",
       "      <th>11</th>\n",
       "      <td>sjordan@diplomats.com</td>\n",
       "      <td>Dr.Sam jordan</td>\n",
       "      <td>R@M</td>\n",
       "      <td>None</td>\n",
       "      <td>None</td>\n",
       "      <td>URGENT ASSISTANCE.</td>\n",
       "      <td>FROM THE DESK OF DR.SAM JORDAN\\nTHE MANAGER\\nH...</td>\n",
       "    </tr>\n",
       "    <tr>\n",
       "      <th>12</th>\n",
       "      <td>p_brown2@lawyer.com</td>\n",
       "      <td>None</td>\n",
       "      <td>p_brown2@lawyer.com</td>\n",
       "      <td>None</td>\n",
       "      <td>None</td>\n",
       "      <td>From: Barrister Peter Brown</td>\n",
       "      <td>\\nSENIOR ADVOCATE OF NIGERIA\\nBARR. PETER BROW...</td>\n",
       "    </tr>\n",
       "    <tr>\n",
       "      <th>13</th>\n",
       "      <td>mic_k1@post.com</td>\n",
       "      <td>None</td>\n",
       "      <td>R@M</td>\n",
       "      <td>None</td>\n",
       "      <td>None</td>\n",
       "      <td>MICHAEL</td>\n",
       "      <td>From;Mr.Michael Kamah and Family,\\n          J...</td>\n",
       "    </tr>\n",
       "    <tr>\n",
       "      <th>14</th>\n",
       "      <td>mikebunduu1@rediffmail.com</td>\n",
       "      <td>COL. MICHAEL BUNDU</td>\n",
       "      <td>R@E</td>\n",
       "      <td>None</td>\n",
       "      <td>None</td>\n",
       "      <td>*****SPAM***** IMPORTANT</td>\n",
       "      <td>FROM: COL. MICHAEL BUNDU. \\nDEMOCRATIC REPUBLI...</td>\n",
       "    </tr>\n",
       "    <tr>\n",
       "      <th>15</th>\n",
       "      <td>elixwilliam@usa.com</td>\n",
       "      <td>MRS MARIAM ABACHA</td>\n",
       "      <td>presidentwifeng@indiatimes.com</td>\n",
       "      <td>None</td>\n",
       "      <td>None</td>\n",
       "      <td>TRUST TRANSACTION</td>\n",
       "      <td>Dear Sir,\\n\\nA Very Good day to you   \\n\\nI am...</td>\n",
       "    </tr>\n",
       "    <tr>\n",
       "      <th>16</th>\n",
       "      <td>anayoawka@hotmail.com</td>\n",
       "      <td>DR. ANAYO AWKA</td>\n",
       "      <td>webmaster@aclweb.org</td>\n",
       "      <td>None</td>\n",
       "      <td>None</td>\n",
       "      <td>REQUEST FOR YOUR UNRESERVED ASSISTANCE</td>\n",
       "      <td>FROM: DR. ANAYO AWKA BANK MANAGER \\n(UNION BAN...</td>\n",
       "    </tr>\n",
       "    <tr>\n",
       "      <th>17</th>\n",
       "      <td>anayoawka@hotmail.com</td>\n",
       "      <td>DR. ANAYO AWKA</td>\n",
       "      <td>webmaster@aclweb.org</td>\n",
       "      <td>None</td>\n",
       "      <td>None</td>\n",
       "      <td>REQUEST FOR YOUR UNRESERVED ASSISTANCE</td>\n",
       "      <td>FROM: DR. ANAYO AWKA BANK MANAGER \\n(UNION BAN...</td>\n",
       "    </tr>\n",
       "    <tr>\n",
       "      <th>18</th>\n",
       "      <td>victorloma@netscape.net</td>\n",
       "      <td>Victor Aloma</td>\n",
       "      <td>ntcir-listmem@newns.op.nii.ac.jp</td>\n",
       "      <td>None</td>\n",
       "      <td>None</td>\n",
       "      <td>Urgent Assistance</td>\n",
       "      <td>The Director,\\n\\n\\n\\n            SEEKING FOR I...</td>\n",
       "    </tr>\n",
       "    <tr>\n",
       "      <th>19</th>\n",
       "      <td>victorloma@netscape.net</td>\n",
       "      <td>Victor Aloma</td>\n",
       "      <td>ntcir-outgoing@mail.op.nii.ac.jp</td>\n",
       "      <td>None</td>\n",
       "      <td>None</td>\n",
       "      <td>Urgent Assistance</td>\n",
       "      <td>The Director,\\n\\n\\n\\n            SEEKING FOR I...</td>\n",
       "    </tr>\n",
       "  </tbody>\n",
       "</table>\n",
       "</div>"
      ],
      "text/plain": [
       "                     sender_email             sender_name  \\\n",
       "0     james_ngola2002@maktoob.com        MR. JAMES NGOLA.   \n",
       "1    bensul2004nng@spinfinder.com         Mr. Ben Suleman   \n",
       "2            obong_715@epatra.com      PRINCE OBONG ELEME   \n",
       "3            obong_715@epatra.com      PRINCE OBONG ELEME   \n",
       "4              m_abacha03@www.com           Maryam Abacha   \n",
       "5          davidkuta@postmark.net                    None   \n",
       "6          tunde_dosumu@lycos.com  Barrister tunde dosumu   \n",
       "7   william2244drallo@maktoob.com          William Drallo   \n",
       "8        abdul_817@rediffmail.com          MR USMAN ABDUL   \n",
       "9          barrister_td@lycos.com           Tunde  Dosumu   \n",
       "10    temijohnson2@rediffmail.com                    None   \n",
       "11          sjordan@diplomats.com           Dr.Sam jordan   \n",
       "12            p_brown2@lawyer.com                    None   \n",
       "13                mic_k1@post.com                    None   \n",
       "14     mikebunduu1@rediffmail.com      COL. MICHAEL BUNDU   \n",
       "15            elixwilliam@usa.com       MRS MARIAM ABACHA   \n",
       "16          anayoawka@hotmail.com         DR. ANAYO AWKA    \n",
       "17          anayoawka@hotmail.com         DR. ANAYO AWKA    \n",
       "18        victorloma@netscape.net            Victor Aloma   \n",
       "19        victorloma@netscape.net            Victor Aloma   \n",
       "\n",
       "                     recipient_mails recipient_names  date  \\\n",
       "0        james_ngola2002@maktoob.com            None  None   \n",
       "1                                R@M            None  None   \n",
       "2               obong_715@epatra.com            None  None   \n",
       "3               webmaster@aclweb.org            None  None   \n",
       "4                 m_abacha03@www.com            None  None   \n",
       "5                davidkuta@yahoo.com            None  None   \n",
       "6             tunde_dosumu@lycos.com            None  None   \n",
       "7      william2244drallo@maktoob.com            None  None   \n",
       "8                                R@M            None  None   \n",
       "9             barrister_td@lycos.com            None  None   \n",
       "10                               R@E            None  None   \n",
       "11                               R@M            None  None   \n",
       "12               p_brown2@lawyer.com            None  None   \n",
       "13                               R@M            None  None   \n",
       "14                               R@E            None  None   \n",
       "15    presidentwifeng@indiatimes.com            None  None   \n",
       "16              webmaster@aclweb.org            None  None   \n",
       "17              webmaster@aclweb.org            None  None   \n",
       "18  ntcir-listmem@newns.op.nii.ac.jp            None  None   \n",
       "19  ntcir-outgoing@mail.op.nii.ac.jp            None  None   \n",
       "\n",
       "                                   emails_body  \\\n",
       "0   URGENT BUSINESS ASSISTANCE AND PARTNERSHIP   \n",
       "1          URGENT ASSISTANCE /RELATIONSHIP (P)   \n",
       "2                              GOOD DAY TO YOU   \n",
       "3                              GOOD DAY TO YOU   \n",
       "4                      I Need Your Assistance.   \n",
       "5                                  Partnership   \n",
       "6                             Urgent Attention   \n",
       "7                      URGENT BUSINESS PRPOSAL   \n",
       "8                                    THANK YOU   \n",
       "9                            Urgent Assistance   \n",
       "10                                   IMPORTANT   \n",
       "11                          URGENT ASSISTANCE.   \n",
       "12                 From: Barrister Peter Brown   \n",
       "13                                     MICHAEL   \n",
       "14                    *****SPAM***** IMPORTANT   \n",
       "15                           TRUST TRANSACTION   \n",
       "16      REQUEST FOR YOUR UNRESERVED ASSISTANCE   \n",
       "17      REQUEST FOR YOUR UNRESERVED ASSISTANCE   \n",
       "18                           Urgent Assistance   \n",
       "19                           Urgent Assistance   \n",
       "\n",
       "                                           email_body  \n",
       "0   FROM:MR. JAMES NGOLA.\\nCONFIDENTIAL TEL: 233-2...  \n",
       "1   Dear Friend,\\n\\nI am Mr. Ben Suleman a custom ...  \n",
       "2   FROM HIS ROYAL MAJESTY (HRM) CROWN RULER OF EL...  \n",
       "3   FROM HIS ROYAL MAJESTY (HRM) CROWN RULER OF EL...  \n",
       "4   Dear sir, \\n \\nIt is with a heart full of hope...  \n",
       "5   ATTENTION:                                    ...  \n",
       "6   Dear Sir,\\n\\nI am Barrister Tunde Dosumu (SAN)...  \n",
       "7   FROM: WILLIAM DRALLO.\\nCONFIDENTIAL TEL: 233-2...  \n",
       "8   CHALLENGE SECURITIES LTD.\\nLAGOS, NIGERIA\\n\\n\\...  \n",
       "9   Dear Sir,\\n\\nI am Barrister Tunde Dosumu (SAN)...  \n",
       "10  FROM: MR TEMI JOHNSON\\nDEMOCRATIC REPUBLIC OF ...  \n",
       "11  FROM THE DESK OF DR.SAM JORDAN\\nTHE MANAGER\\nH...  \n",
       "12  \\nSENIOR ADVOCATE OF NIGERIA\\nBARR. PETER BROW...  \n",
       "13  From;Mr.Michael Kamah and Family,\\n          J...  \n",
       "14  FROM: COL. MICHAEL BUNDU. \\nDEMOCRATIC REPUBLI...  \n",
       "15  Dear Sir,\\n\\nA Very Good day to you   \\n\\nI am...  \n",
       "16  FROM: DR. ANAYO AWKA BANK MANAGER \\n(UNION BAN...  \n",
       "17  FROM: DR. ANAYO AWKA BANK MANAGER \\n(UNION BAN...  \n",
       "18  The Director,\\n\\n\\n\\n            SEEKING FOR I...  \n",
       "19  The Director,\\n\\n\\n\\n            SEEKING FOR I...  "
      ]
     },
     "execution_count": 13,
     "metadata": {},
     "output_type": "execute_result"
    }
   ],
   "source": [
    "#將處理結果轉化為dataframe\n",
    "emails_df = pd.DataFrame(emails_list)\n",
    "emails_df"
   ]
  },
  {
   "cell_type": "code",
   "execution_count": null,
   "metadata": {},
   "outputs": [],
   "source": []
  }
 ],
 "metadata": {
  "colab": {
   "name": "Python_regular_expression_作業.ipynb",
   "provenance": []
  },
  "kernelspec": {
   "display_name": "Python 3",
   "language": "python",
   "name": "python3"
  },
  "language_info": {
   "codemirror_mode": {
    "name": "ipython",
    "version": 3
   },
   "file_extension": ".py",
   "mimetype": "text/x-python",
   "name": "python",
   "nbconvert_exporter": "python",
   "pygments_lexer": "ipython3",
   "version": "3.7.6"
  }
 },
 "nbformat": 4,
 "nbformat_minor": 1
}
