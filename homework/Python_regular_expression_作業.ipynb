{
 "cells": [
  {
   "cell_type": "markdown",
   "metadata": {
    "colab_type": "text",
    "id": "tTJolmzeBLGr"
   },
   "source": [
    "# 作業目標: 使用python正規表達式對資料進行清洗處理\n",
    "\n",
    "這份作業我們會使用詐欺郵件的文本資料來作為清洗與處理的操作。\n",
    "[資料集](https://www.kaggle.com/rtatman/fraudulent-email-corpus/data#)"
   ]
  },
  {
   "cell_type": "markdown",
   "metadata": {
    "colab_type": "text",
    "id": "vhv0OElTBLGs"
   },
   "source": [
    "### 讀入資料文本\n",
    "因原始文本較大，先使用部份擷取的**sample_emails.txt**來進行練習"
   ]
  },
  {
   "cell_type": "code",
   "execution_count": null,
   "metadata": {
    "colab": {},
    "colab_type": "code",
    "id": "a0BdDqt1BLGt"
   },
   "outputs": [],
   "source": [
    "#讀取文本資料\n",
    "#<your code>#"
   ]
  },
  {
   "cell_type": "code",
   "execution_count": 1,
   "metadata": {
    "colab": {},
    "colab_type": "code",
    "id": "XQbjXNKdBLGx",
    "outputId": "97497027-4c29-4dcf-9cf4-94b0081dac54",
    "scrolled": true
   },
   "outputs": [
    {
     "name": "stdout",
     "output_type": "stream",
     "text": [
      "                      From r  Wed Oct 30 21:41:56 2002\n",
      "0           Return-Path: <james_ngola2002@maktoob.com>\n",
      "1                               X-Sieve: cmu-sieve 2.0\n",
      "2           Return-Path: <james_ngola2002@maktoob.com>\n",
      "3      Message-Id: <200210310241.g9V2fNm6028281@cs.CU>\n",
      "4    From: \"MR. JAMES NGOLA.\" <james_ngola2002@makt...\n",
      "..                                                 ...\n",
      "133  Nevertheless if you are for any reason not int...\n",
      "134  kindly inform me immediately so that I will lo...\n",
      "135             I am waiting for your quick response. \n",
      "136                                 Yours faithfully, \n",
      "137                                Prince Obong Abbot \n",
      "\n",
      "[138 rows x 1 columns]\n"
     ]
    }
   ],
   "source": [
    "import pandas as pd\n",
    "dataset = pd.read_table(r'sample_emails.txt',sep='\\n')\n",
    "print(dataset)\n",
    "str = open('sample_emails.txt', 'r').read()"
   ]
  },
  {
   "cell_type": "markdown",
   "metadata": {
    "colab_type": "text",
    "id": "aUg8HenSBLG2"
   },
   "source": [
    "### 讀取寄件者資訊\n",
    "觀察文本資料可以發現, 寄件者資訊都符合以下格式\n",
    "\n",
    "`From: <收件者姓名> <收件者電子郵件>`"
   ]
  },
  {
   "cell_type": "code",
   "execution_count": null,
   "metadata": {
    "colab": {},
    "colab_type": "code",
    "id": "YgsUuHsfBLG2"
   },
   "outputs": [],
   "source": [
    "#<your code>#"
   ]
  },
  {
   "cell_type": "code",
   "execution_count": 37,
   "metadata": {
    "colab": {},
    "colab_type": "code",
    "id": "pofRrOGhBLG5",
    "outputId": "28eb134d-2dfa-4743-fae8-1f0abda25968"
   },
   "outputs": [
    {
     "name": "stdout",
     "output_type": "stream",
     "text": [
      "['From: \"MR. JAMES NGOLA.\" <james_ngola2002@maktoob.com>', 'From: \"Mr. Ben Suleman\" <bensul2004nng@spinfinder.com>', 'From: \"PRINCE OBONG ELEME\" <obong_715@epatra.com>']\n"
     ]
    }
   ],
   "source": [
    "import re\n",
    "pattern=\"From: \\\".*\"\n",
    "match1 = re.findall(pattern, str)\n",
    "print (match1)\n",
    "match1='\\n'.join(match1)"
   ]
  },
  {
   "cell_type": "markdown",
   "metadata": {
    "colab_type": "text",
    "id": "Ac8KHAqTBLG7"
   },
   "source": [
    "### 只讀取寄件者姓名"
   ]
  },
  {
   "cell_type": "code",
   "execution_count": 39,
   "metadata": {
    "colab": {},
    "colab_type": "code",
    "id": "coBDE2iBBLG8",
    "outputId": "aada7b60-56bb-45ae-f25f-941218a541c2"
   },
   "outputs": [
    {
     "name": "stdout",
     "output_type": "stream",
     "text": [
      "['MR. JAMES NGOLA.', 'Mr. Ben Suleman', 'PRINCE OBONG ELEME']\n"
     ]
    }
   ],
   "source": [
    "#<your code>#\n",
    "\n",
    "pattern=\"(?<=From: \\\")(.+)(?=\\\")\"\n",
    "match=re.findall(pattern,match1)\n",
    "print(match)"
   ]
  },
  {
   "cell_type": "markdown",
   "metadata": {
    "colab_type": "text",
    "id": "gaJefecaBLG-"
   },
   "source": [
    "### 只讀取寄件者電子信箱"
   ]
  },
  {
   "cell_type": "code",
   "execution_count": 40,
   "metadata": {
    "colab": {},
    "colab_type": "code",
    "id": "G55ADKW_BLG_",
    "outputId": "7f3d9657-87b9-4c78-d324-3df919ee84a7"
   },
   "outputs": [
    {
     "name": "stdout",
     "output_type": "stream",
     "text": [
      "['james_ngola2002@maktoob.com', 'bensul2004nng@spinfinder.com', 'obong_715@epatra.com']\n"
     ]
    }
   ],
   "source": [
    "pattern=\"(?<=\\<)(.+)(?=\\>)\"\n",
    "match=re.findall(pattern,match1)\n",
    "print(match)"
   ]
  },
  {
   "cell_type": "markdown",
   "metadata": {
    "colab_type": "text",
    "id": "t-RXjNLiBLHC"
   },
   "source": [
    "### 只讀取電子信箱中的寄件機構資訊\n",
    "ex: james_ngola2002@maktoob.com --> 取maktoob"
   ]
  },
  {
   "cell_type": "code",
   "execution_count": 41,
   "metadata": {
    "colab": {},
    "colab_type": "code",
    "id": "qC2Sd6_SBLHC",
    "outputId": "14e4e148-a660-4a15-88ac-e781300c9767"
   },
   "outputs": [
    {
     "name": "stdout",
     "output_type": "stream",
     "text": [
      "['maktoob', 'spinfinder', 'epatra']\n"
     ]
    }
   ],
   "source": [
    "pattern=\"(?<=\\@)(.+)(?=\\.)\"\n",
    "match=re.findall(pattern,match1)\n",
    "print(match)"
   ]
  },
  {
   "cell_type": "markdown",
   "metadata": {
    "colab_type": "text",
    "id": "vfzkuLCWBLHG"
   },
   "source": [
    "### 結合上面的配對方式, 將寄件者的帳號與機構訊返回\n",
    "ex: james_ngola2002@maktoob.com --> [james_ngola2002, maktoob]"
   ]
  },
  {
   "cell_type": "code",
   "execution_count": 64,
   "metadata": {
    "colab": {},
    "colab_type": "code",
    "id": "t3lTRThcBLHG",
    "outputId": "e94f295a-ffa4-4897-dc43-e93991aac20e"
   },
   "outputs": [
    {
     "name": "stdout",
     "output_type": "stream",
     "text": [
      "[('james_ngola2002', ''), ('', 'maktoob'), ('bensul2004nng', ''), ('', 'spinfinder'), ('obong_715', ''), ('', 'epatra')]\n"
     ]
    }
   ],
   "source": [
    "pattern=\"(?<=\\<)(.+)(?=\\@)|(?<=\\@)(.*)(?=\\.)\"\n",
    "match=re.findall(pattern,match1)\n",
    "print(match)"
   ]
  },
  {
   "cell_type": "markdown",
   "metadata": {
    "colab_type": "text",
    "id": "Yl-BMduNBLHJ"
   },
   "source": [
    "### 使用正規表達式對email資料進行處理\n",
    "這裡我們會使用到python其他的套件協助處理(ex: pandas, email, etc)，這裡我們只需要專注在正規表達式上即可，其他的套件是方便我們整理與處理資料。"
   ]
  },
  {
   "cell_type": "markdown",
   "metadata": {
    "colab_type": "text",
    "id": "kqCacQ9tBLHJ"
   },
   "source": [
    "### 讀取與切分Email\n",
    "讀入的email為一個長字串，利用正規表達式切割讀入的資料成一封一封的email，並將結果以list表示。\n",
    "\n",
    "輸出: [email_1, email_2, email_3, ....]"
   ]
  },
  {
   "cell_type": "code",
   "execution_count": 66,
   "metadata": {
    "colab": {},
    "colab_type": "code",
    "id": "k9BCVTqoBLHK",
    "outputId": "656ffc81-cb9b-4174-8511-9013985c4cad"
   },
   "outputs": [
    {
     "ename": "ParserError",
     "evalue": "Error tokenizing data. C error: Expected 1 fields in line 19434, saw 2\n",
     "output_type": "error",
     "traceback": [
      "\u001b[1;31m---------------------------------------------------------------------------\u001b[0m",
      "\u001b[1;31mParserError\u001b[0m                               Traceback (most recent call last)",
      "\u001b[1;32m<ipython-input-66-1faf092d1a52>\u001b[0m in \u001b[0;36m<module>\u001b[1;34m\u001b[0m\n\u001b[0;32m      4\u001b[0m \u001b[1;33m\u001b[0m\u001b[0m\n\u001b[0;32m      5\u001b[0m \u001b[1;31m###讀取文本資料:fradulent_emails.txt###\u001b[0m\u001b[1;33m\u001b[0m\u001b[1;33m\u001b[0m\u001b[1;33m\u001b[0m\u001b[0m\n\u001b[1;32m----> 6\u001b[1;33m \u001b[0memails\u001b[0m \u001b[1;33m=\u001b[0m \u001b[0mpd\u001b[0m\u001b[1;33m.\u001b[0m\u001b[0mread_table\u001b[0m\u001b[1;33m(\u001b[0m\u001b[1;34mr'all_emails.txt'\u001b[0m\u001b[1;33m,\u001b[0m\u001b[0msep\u001b[0m\u001b[1;33m=\u001b[0m\u001b[1;34m'\\n'\u001b[0m\u001b[1;33m)\u001b[0m\u001b[1;33m\u001b[0m\u001b[1;33m\u001b[0m\u001b[0m\n\u001b[0m\u001b[0;32m      7\u001b[0m \u001b[0mprint\u001b[0m\u001b[1;33m(\u001b[0m\u001b[0memails\u001b[0m\u001b[1;33m)\u001b[0m\u001b[1;33m\u001b[0m\u001b[1;33m\u001b[0m\u001b[0m\n\u001b[0;32m      8\u001b[0m \u001b[1;33m\u001b[0m\u001b[0m\n",
      "\u001b[1;32mD:\\anaconda3\\lib\\site-packages\\pandas\\io\\parsers.py\u001b[0m in \u001b[0;36mparser_f\u001b[1;34m(filepath_or_buffer, sep, delimiter, header, names, index_col, usecols, squeeze, prefix, mangle_dupe_cols, dtype, engine, converters, true_values, false_values, skipinitialspace, skiprows, skipfooter, nrows, na_values, keep_default_na, na_filter, verbose, skip_blank_lines, parse_dates, infer_datetime_format, keep_date_col, date_parser, dayfirst, cache_dates, iterator, chunksize, compression, thousands, decimal, lineterminator, quotechar, quoting, doublequote, escapechar, comment, encoding, dialect, error_bad_lines, warn_bad_lines, delim_whitespace, low_memory, memory_map, float_precision)\u001b[0m\n\u001b[0;32m    674\u001b[0m         )\n\u001b[0;32m    675\u001b[0m \u001b[1;33m\u001b[0m\u001b[0m\n\u001b[1;32m--> 676\u001b[1;33m         \u001b[1;32mreturn\u001b[0m \u001b[0m_read\u001b[0m\u001b[1;33m(\u001b[0m\u001b[0mfilepath_or_buffer\u001b[0m\u001b[1;33m,\u001b[0m \u001b[0mkwds\u001b[0m\u001b[1;33m)\u001b[0m\u001b[1;33m\u001b[0m\u001b[1;33m\u001b[0m\u001b[0m\n\u001b[0m\u001b[0;32m    677\u001b[0m \u001b[1;33m\u001b[0m\u001b[0m\n\u001b[0;32m    678\u001b[0m     \u001b[0mparser_f\u001b[0m\u001b[1;33m.\u001b[0m\u001b[0m__name__\u001b[0m \u001b[1;33m=\u001b[0m \u001b[0mname\u001b[0m\u001b[1;33m\u001b[0m\u001b[1;33m\u001b[0m\u001b[0m\n",
      "\u001b[1;32mD:\\anaconda3\\lib\\site-packages\\pandas\\io\\parsers.py\u001b[0m in \u001b[0;36m_read\u001b[1;34m(filepath_or_buffer, kwds)\u001b[0m\n\u001b[0;32m    452\u001b[0m \u001b[1;33m\u001b[0m\u001b[0m\n\u001b[0;32m    453\u001b[0m     \u001b[1;32mtry\u001b[0m\u001b[1;33m:\u001b[0m\u001b[1;33m\u001b[0m\u001b[1;33m\u001b[0m\u001b[0m\n\u001b[1;32m--> 454\u001b[1;33m         \u001b[0mdata\u001b[0m \u001b[1;33m=\u001b[0m \u001b[0mparser\u001b[0m\u001b[1;33m.\u001b[0m\u001b[0mread\u001b[0m\u001b[1;33m(\u001b[0m\u001b[0mnrows\u001b[0m\u001b[1;33m)\u001b[0m\u001b[1;33m\u001b[0m\u001b[1;33m\u001b[0m\u001b[0m\n\u001b[0m\u001b[0;32m    455\u001b[0m     \u001b[1;32mfinally\u001b[0m\u001b[1;33m:\u001b[0m\u001b[1;33m\u001b[0m\u001b[1;33m\u001b[0m\u001b[0m\n\u001b[0;32m    456\u001b[0m         \u001b[0mparser\u001b[0m\u001b[1;33m.\u001b[0m\u001b[0mclose\u001b[0m\u001b[1;33m(\u001b[0m\u001b[1;33m)\u001b[0m\u001b[1;33m\u001b[0m\u001b[1;33m\u001b[0m\u001b[0m\n",
      "\u001b[1;32mD:\\anaconda3\\lib\\site-packages\\pandas\\io\\parsers.py\u001b[0m in \u001b[0;36mread\u001b[1;34m(self, nrows)\u001b[0m\n\u001b[0;32m   1131\u001b[0m     \u001b[1;32mdef\u001b[0m \u001b[0mread\u001b[0m\u001b[1;33m(\u001b[0m\u001b[0mself\u001b[0m\u001b[1;33m,\u001b[0m \u001b[0mnrows\u001b[0m\u001b[1;33m=\u001b[0m\u001b[1;32mNone\u001b[0m\u001b[1;33m)\u001b[0m\u001b[1;33m:\u001b[0m\u001b[1;33m\u001b[0m\u001b[1;33m\u001b[0m\u001b[0m\n\u001b[0;32m   1132\u001b[0m         \u001b[0mnrows\u001b[0m \u001b[1;33m=\u001b[0m \u001b[0m_validate_integer\u001b[0m\u001b[1;33m(\u001b[0m\u001b[1;34m\"nrows\"\u001b[0m\u001b[1;33m,\u001b[0m \u001b[0mnrows\u001b[0m\u001b[1;33m)\u001b[0m\u001b[1;33m\u001b[0m\u001b[1;33m\u001b[0m\u001b[0m\n\u001b[1;32m-> 1133\u001b[1;33m         \u001b[0mret\u001b[0m \u001b[1;33m=\u001b[0m \u001b[0mself\u001b[0m\u001b[1;33m.\u001b[0m\u001b[0m_engine\u001b[0m\u001b[1;33m.\u001b[0m\u001b[0mread\u001b[0m\u001b[1;33m(\u001b[0m\u001b[0mnrows\u001b[0m\u001b[1;33m)\u001b[0m\u001b[1;33m\u001b[0m\u001b[1;33m\u001b[0m\u001b[0m\n\u001b[0m\u001b[0;32m   1134\u001b[0m \u001b[1;33m\u001b[0m\u001b[0m\n\u001b[0;32m   1135\u001b[0m         \u001b[1;31m# May alter columns / col_dict\u001b[0m\u001b[1;33m\u001b[0m\u001b[1;33m\u001b[0m\u001b[1;33m\u001b[0m\u001b[0m\n",
      "\u001b[1;32mD:\\anaconda3\\lib\\site-packages\\pandas\\io\\parsers.py\u001b[0m in \u001b[0;36mread\u001b[1;34m(self, nrows)\u001b[0m\n\u001b[0;32m   2035\u001b[0m     \u001b[1;32mdef\u001b[0m \u001b[0mread\u001b[0m\u001b[1;33m(\u001b[0m\u001b[0mself\u001b[0m\u001b[1;33m,\u001b[0m \u001b[0mnrows\u001b[0m\u001b[1;33m=\u001b[0m\u001b[1;32mNone\u001b[0m\u001b[1;33m)\u001b[0m\u001b[1;33m:\u001b[0m\u001b[1;33m\u001b[0m\u001b[1;33m\u001b[0m\u001b[0m\n\u001b[0;32m   2036\u001b[0m         \u001b[1;32mtry\u001b[0m\u001b[1;33m:\u001b[0m\u001b[1;33m\u001b[0m\u001b[1;33m\u001b[0m\u001b[0m\n\u001b[1;32m-> 2037\u001b[1;33m             \u001b[0mdata\u001b[0m \u001b[1;33m=\u001b[0m \u001b[0mself\u001b[0m\u001b[1;33m.\u001b[0m\u001b[0m_reader\u001b[0m\u001b[1;33m.\u001b[0m\u001b[0mread\u001b[0m\u001b[1;33m(\u001b[0m\u001b[0mnrows\u001b[0m\u001b[1;33m)\u001b[0m\u001b[1;33m\u001b[0m\u001b[1;33m\u001b[0m\u001b[0m\n\u001b[0m\u001b[0;32m   2038\u001b[0m         \u001b[1;32mexcept\u001b[0m \u001b[0mStopIteration\u001b[0m\u001b[1;33m:\u001b[0m\u001b[1;33m\u001b[0m\u001b[1;33m\u001b[0m\u001b[0m\n\u001b[0;32m   2039\u001b[0m             \u001b[1;32mif\u001b[0m \u001b[0mself\u001b[0m\u001b[1;33m.\u001b[0m\u001b[0m_first_chunk\u001b[0m\u001b[1;33m:\u001b[0m\u001b[1;33m\u001b[0m\u001b[1;33m\u001b[0m\u001b[0m\n",
      "\u001b[1;32mpandas\\_libs\\parsers.pyx\u001b[0m in \u001b[0;36mpandas._libs.parsers.TextReader.read\u001b[1;34m()\u001b[0m\n",
      "\u001b[1;32mpandas\\_libs\\parsers.pyx\u001b[0m in \u001b[0;36mpandas._libs.parsers.TextReader._read_low_memory\u001b[1;34m()\u001b[0m\n",
      "\u001b[1;32mpandas\\_libs\\parsers.pyx\u001b[0m in \u001b[0;36mpandas._libs.parsers.TextReader._read_rows\u001b[1;34m()\u001b[0m\n",
      "\u001b[1;32mpandas\\_libs\\parsers.pyx\u001b[0m in \u001b[0;36mpandas._libs.parsers.TextReader._tokenize_rows\u001b[1;34m()\u001b[0m\n",
      "\u001b[1;32mpandas\\_libs\\parsers.pyx\u001b[0m in \u001b[0;36mpandas._libs.parsers.raise_parser_error\u001b[1;34m()\u001b[0m\n",
      "\u001b[1;31mParserError\u001b[0m: Error tokenizing data. C error: Expected 1 fields in line 19434, saw 2\n"
     ]
    }
   ],
   "source": [
    "import re\n",
    "import pandas as pd\n",
    "import email\n",
    "\n",
    "###讀取文本資料:fradulent_emails.txt###\n",
    "emails = pd.read_table(r'all_emails.txt',sep='\\n')\n",
    "print(emails)\n",
    "    \n",
    "###切割讀入的資料成一封一封的email###\n",
    "###我們可以使用list來儲存每一封email###\n",
    "###注意！這裡請仔細觀察sample資料，看資料是如何切分不同email###\n",
    "#<your code>#\n",
    "\n",
    "len(emails) #查看有多少封email"
   ]
  },
  {
   "cell_type": "markdown",
   "metadata": {
    "colab_type": "text",
    "id": "e9IN-2o0BLHM"
   },
   "source": [
    "### 從文本中擷取所有寄件者與收件者的姓名和地址"
   ]
  },
  {
   "cell_type": "code",
   "execution_count": null,
   "metadata": {
    "colab": {},
    "colab_type": "code",
    "id": "d_WRYFpcBLHM"
   },
   "outputs": [],
   "source": [
    "emails_list = [] #創建空list來儲存所有email資訊\n",
    "\n",
    "for mail in emails[:20]: #只取前20筆資料 (處理速度比較快)\n",
    "    emails_dict = dict() #創建空字典儲存資訊\n",
    "    ###取的寄件者姓名與地址###\n",
    "    \n",
    "    #Step1: 取的寄件者資訊 (hint: From:)\n",
    "    #<your code>#\n",
    "    \n",
    "    #Step2: 取的姓名與地址 (hint: 要注意有時會有沒取到配對的情況)\n",
    "    #<your code>#\n",
    "    \n",
    "    #Step3: 將取得的姓名與地址存入字典中\n",
    "    #<your code>#\n",
    "        \n",
    "    \n",
    "    ###取的收件者姓名與地址###\n",
    "    #Step1: 取的寄件者資訊 (hint: To:)\n",
    "    #<your code>#\n",
    "    \n",
    "    #Step2: 取的姓名與地址 (hint: 要注意有時會有沒取到配對的情況)\n",
    "    #<your code>#\n",
    "        \n",
    "    #Step3: 將取得的姓名與地址存入字典中\n",
    "    #<your code>#\n",
    "        \n",
    "        \n",
    "    ###取得信件日期###\n",
    "    #Step1: 取得日期資訊 (hint: To:)\n",
    "    #<your code>#\n",
    "    \n",
    "    #Step2: 取得詳細日期(只需取得DD MMM YYYY)\n",
    "    #<your code>#\n",
    "        \n",
    "    #Step3: 將取得的日期資訊存入字典中\n",
    "    #<your code>#\n",
    "        \n",
    "        \n",
    "    ###取得信件主旨###\n",
    "    #Step1: 取得主旨資訊 (hint: Subject:)\n",
    "    #<your code>#\n",
    "    \n",
    "    #Step2: 移除不必要文字 (hint: Subject: )\n",
    "    #<your code>#\n",
    "    \n",
    "    #Step3: 將取得的主旨存入字典中\n",
    "    #<your code>#\n",
    "    \n",
    "    \n",
    "    ###取得信件內文###\n",
    "    #這裡我們使用email package來取出email內文 (可以不需深究，本章節重點在正規表達式)\n",
    "    try:\n",
    "        full_email = email.message_from_string(mail)\n",
    "        body = full_email.get_payload()\n",
    "        emails_dict[\"email_body\"] = body\n",
    "    except:\n",
    "        emails_dict[\"email_body\"] = None\n",
    "    \n",
    "    ###將字典加入list###\n",
    "    #<your code>#"
   ]
  },
  {
   "cell_type": "code",
   "execution_count": null,
   "metadata": {
    "colab": {},
    "colab_type": "code",
    "id": "CBfQRiYPBLHP"
   },
   "outputs": [],
   "source": [
    "#將處理結果轉化為dataframe\n",
    "emails_df = pd.DataFrame(emails_list)\n",
    "emails_df"
   ]
  }
 ],
 "metadata": {
  "colab": {
   "name": "Python_regular_expression_作業.ipynb",
   "provenance": []
  },
  "kernelspec": {
   "display_name": "Python 3",
   "language": "python",
   "name": "python3"
  },
  "language_info": {
   "codemirror_mode": {
    "name": "ipython",
    "version": 3
   },
   "file_extension": ".py",
   "mimetype": "text/x-python",
   "name": "python",
   "nbconvert_exporter": "python",
   "pygments_lexer": "ipython3",
   "version": "3.7.6"
  }
 },
 "nbformat": 4,
 "nbformat_minor": 1
}
